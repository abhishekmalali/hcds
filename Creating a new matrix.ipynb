{
 "cells": [
  {
   "cell_type": "code",
   "execution_count": null,
   "metadata": {
    "collapsed": true
   },
   "outputs": [],
   "source": [
    "from __future__ import division\n",
    "from __future__ import print_function\n",
    "\n",
    "import numpy as np\n",
    "import matplotlib.pyplot as plt\n",
    "%matplotlib inline\n",
    "\n",
    "import pyfits as fits\n",
    "from scipy.stats import norm"
   ]
  },
  {
   "cell_type": "code",
   "execution_count": null,
   "metadata": {
    "collapsed": true
   },
   "outputs": [],
   "source": [
    "import matplotlib.animation as animation\n",
    "%pylab inline"
   ]
  },
  {
   "cell_type": "code",
   "execution_count": null,
   "metadata": {
    "collapsed": true
   },
   "outputs": [],
   "source": [
    "docompute = True"
   ]
  },
  {
   "cell_type": "code",
   "execution_count": null,
   "metadata": {
    "collapsed": true
   },
   "outputs": [],
   "source": [
    "root_path = '/home/apps/astro/data/muse/'"
   ]
  },
  {
   "cell_type": "code",
   "execution_count": null,
   "metadata": {
    "collapsed": true
   },
   "outputs": [],
   "source": [
    "#filename = \"muse_scipost_N_ASASSN14lp_1_new_DATACUBE_FINAL_IFU_004_zap_all.fits\"\n",
    "filename = \"muse_scipost_N_SN2009bb_DATACUBE_FINAL_IFU_001_zap.fits\"\n",
    "#filename = \"muse_scipost_N_SN2004ef_DATACUBE_FINAL_IFU_002_skysub.fits\"\n",
    "data = fits.open(root_path+filename)\n",
    "_image = data[1].data\n",
    "header = data[1].header\n",
    "del data\n",
    "#image = image[:, 63:263, 100:300]\n",
    "image = _image[:, 100:300, 20:220]\n",
    "(nl, nx, ny) = np.shape(image)\n",
    "image2D = np.sum(image, axis = 0)\n",
    "image2D[np.invert(np.isfinite(image2D))] = 0\n",
    "image2D = np.arcsinh(image2D)\n",
    "fig, ax = plt.subplots(figsize = (10, 10))\n",
    "l1, l2 = (np.percentile(image2D.flatten(), 1), np.percentile(image2D.flatten(), 99))\n",
    "print(l1, l2)\n",
    "color = ax.imshow(image2D, clim = (10, 14));\n",
    "fig.colorbar(color)\n"
   ]
  },
  {
   "cell_type": "code",
   "execution_count": null,
   "metadata": {
    "collapsed": true
   },
   "outputs": [],
   "source": [
    "# spectral wavelengths\n",
    "CRVAL3 = float(header[\"CRVAL3\"])\n",
    "CRPIX3 = float(header[\"CRPIX3\"])\n",
    "CUNIT3 = header[\"CUNIT3\"]\n",
    "CD31 = float(header[\"CD3_1\"])\n",
    "CD32 = float(header[\"CD3_2\"])\n",
    "CD33 = float(header[\"CD3_3\"])\n",
    "NAXIS3 = int(header[\"NAXIS3\"])\n",
    "lambdas = np.array(CRVAL3 + CD33 * (np.arange(NAXIS3) - CRPIX3))"
   ]
  },
  {
   "cell_type": "markdown",
   "metadata": {},
   "source": [
    "**Asumimos que $H\\alpha$ es la más intensa.**"
   ]
  },
  {
   "cell_type": "code",
   "execution_count": null,
   "metadata": {
    "collapsed": true
   },
   "outputs": [],
   "source": [
    "H_alpha = 6562.8"
   ]
  },
  {
   "cell_type": "code",
   "execution_count": null,
   "metadata": {
    "collapsed": true
   },
   "outputs": [],
   "source": [
    "fig, ax = plt.subplots(figsize = (20, 5))\n",
    "spectra = _image[:, 120, 50]\n",
    "ax.plot(lambdas, spectra)\n",
    "ax.set_xlim(min(lambdas), max(lambdas))\n",
    "plt.ylabel('intensity')\n",
    "plt.xlabel('wave-lenghts')\n",
    "plt.plot([H_alpha,H_alpha],[spectra.min(),spectra.max()], c='red')"
   ]
  },
  {
   "cell_type": "code",
   "execution_count": null,
   "metadata": {
    "collapsed": true
   },
   "outputs": [],
   "source": [
    "_max = lambdas[spectra.argmax()]\n",
    "_max"
   ]
  },
  {
   "cell_type": "code",
   "execution_count": null,
   "metadata": {
    "collapsed": true
   },
   "outputs": [],
   "source": [
    "z_1 = _max/H_alpha"
   ]
  },
  {
   "cell_type": "code",
   "execution_count": null,
   "metadata": {
    "collapsed": true
   },
   "outputs": [],
   "source": [
    "lambdas_shiftted = lambdas/z_1"
   ]
  },
  {
   "cell_type": "code",
   "execution_count": null,
   "metadata": {
    "collapsed": true
   },
   "outputs": [],
   "source": [
    "fig, ax = plt.subplots(figsize = (20, 5))\n",
    "spectra = image[:, 120, 50]\n",
    "ax.plot(lambdas_shiftted, spectra)\n",
    "ax.set_xlim(min(lambdas), max(lambdas))\n",
    "plt.ylabel('intensity')\n",
    "plt.xlabel('wave-lenghts')\n",
    "plt.plot([H_alpha,H_alpha],[spectra.min(),spectra.max()], c='red')"
   ]
  },
  {
   "cell_type": "markdown",
   "metadata": {},
   "source": [
    "### Shift of the full data set."
   ]
  },
  {
   "cell_type": "code",
   "execution_count": null,
   "metadata": {
    "collapsed": true
   },
   "outputs": [],
   "source": [
    "all_maximums = image.argmax(0)\n",
    "all_maximums.shape"
   ]
  },
  {
   "cell_type": "code",
   "execution_count": null,
   "metadata": {
    "collapsed": true
   },
   "outputs": [],
   "source": [
    "all_lambdas = lambdas[all_maximums]\n",
    "print(all_lambdas.shape)\n",
    "\n",
    "all_z_1 = all_lambdas/H_alpha\n",
    "print(all_z_1.shape)"
   ]
  },
  {
   "cell_type": "code",
   "execution_count": null,
   "metadata": {
    "collapsed": true
   },
   "outputs": [],
   "source": [
    "multiply_lambdas = np.repeat(np.matrix(lambdas), all_z_1.shape[0], axis=0)  #(3681,) to (3681,321,320)"
   ]
  },
  {
   "cell_type": "code",
   "execution_count": null,
   "metadata": {
    "collapsed": true
   },
   "outputs": [],
   "source": [
    "multiply_lambdas.T.shape"
   ]
  },
  {
   "cell_type": "code",
   "execution_count": null,
   "metadata": {
    "collapsed": true
   },
   "outputs": [],
   "source": [
    "transformed = np.array([multiply_lambdas for i in range(all_z_1.shape[1])]).T"
   ]
  },
  {
   "cell_type": "code",
   "execution_count": null,
   "metadata": {
    "collapsed": true
   },
   "outputs": [],
   "source": [
    "transformed.shape"
   ]
  },
  {
   "cell_type": "code",
   "execution_count": null,
   "metadata": {
    "collapsed": true
   },
   "outputs": [],
   "source": [
    "all_lambdas_shiftted = transformed/all_z_1\n",
    "all_lambdas_shiftted.shape"
   ]
  },
  {
   "cell_type": "code",
   "execution_count": null,
   "metadata": {
    "collapsed": true
   },
   "outputs": [],
   "source": [
    "all_lambdas_shiftted.shape"
   ]
  },
  {
   "cell_type": "code",
   "execution_count": null,
   "metadata": {
    "collapsed": true
   },
   "outputs": [],
   "source": [
    "_minimum = int(all_lambdas.min())\n",
    "_maximum = int(all_lambdas.max())\n",
    "\n",
    "_minimum, _maximum"
   ]
  },
  {
   "cell_type": "code",
   "execution_count": null,
   "metadata": {
    "collapsed": true
   },
   "outputs": [],
   "source": [
    "int_all_lambdas_shiftted = all_lambdas_shiftted.astype(int)"
   ]
  },
  {
   "cell_type": "code",
   "execution_count": null,
   "metadata": {
    "collapsed": true
   },
   "outputs": [],
   "source": [
    "int_all_lambdas_shiftted.shape"
   ]
  },
  {
   "cell_type": "code",
   "execution_count": null,
   "metadata": {
    "collapsed": true
   },
   "outputs": [],
   "source": [
    "new_image = np.ones((_maximum-_minimum, image.shape[1], image.shape[2]))"
   ]
  },
  {
   "cell_type": "code",
   "execution_count": null,
   "metadata": {
    "collapsed": true
   },
   "outputs": [],
   "source": [
    "new_image = new_image * np.nanmean(image, axis=0)"
   ]
  },
  {
   "cell_type": "code",
   "execution_count": null,
   "metadata": {
    "collapsed": true
   },
   "outputs": [],
   "source": [
    "new_image.shape"
   ]
  },
  {
   "cell_type": "code",
   "execution_count": null,
   "metadata": {
    "collapsed": true
   },
   "outputs": [],
   "source": [
    "_i = 0\n",
    "_j = 0\n",
    "_k = 0\n",
    "\n",
    "for i in range(int_all_lambdas_shiftted.shape[0]):\n",
    "    \n",
    "    _j = 0\n",
    "    for j in range(int_all_lambdas_shiftted.shape[1]):  \n",
    "        \n",
    "        _k = 0\n",
    "        for k in range(int_all_lambdas_shiftted.shape[2]):\n",
    "            new_image[i,j,k] = image[_i,_j,_k]\n",
    "            _k += 1\n",
    "        _j += 1\n",
    "    \n",
    "    i += 1"
   ]
  },
  {
   "cell_type": "code",
   "execution_count": null,
   "metadata": {
    "collapsed": true
   },
   "outputs": [],
   "source": [
    "new_image.shape"
   ]
  }
 ],
 "metadata": {
  "kernelspec": {
   "display_name": "Python 3",
   "language": "python",
   "name": "python3"
  },
  "language_info": {
   "codemirror_mode": {
    "name": "ipython",
    "version": 3
   },
   "file_extension": ".py",
   "mimetype": "text/x-python",
   "name": "python",
   "nbconvert_exporter": "python",
   "pygments_lexer": "ipython3",
   "version": "3.5.2"
  }
 },
 "nbformat": 4,
 "nbformat_minor": 2
}

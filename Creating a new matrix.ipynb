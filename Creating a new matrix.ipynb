{
 "cells": [
  {
   "cell_type": "code",
   "execution_count": 1,
   "metadata": {
    "collapsed": false
   },
   "outputs": [],
   "source": [
    "from __future__ import division\n",
    "from __future__ import print_function\n",
    "\n",
    "import numpy as np\n",
    "import matplotlib.pyplot as plt\n",
    "#%matplotlib inline\n",
    "\n",
    "import pyfits as fits\n",
    "from scipy.stats import norm"
   ]
  },
  {
   "cell_type": "code",
   "execution_count": 2,
   "metadata": {
    "collapsed": false
   },
   "outputs": [],
   "source": [
    "import matplotlib.animation as animation\n",
    "#%pylab inline"
   ]
  },
  {
   "cell_type": "code",
   "execution_count": 3,
   "metadata": {
    "collapsed": false
   },
   "outputs": [],
   "source": [
    "docompute = True"
   ]
  },
  {
   "cell_type": "code",
   "execution_count": 4,
   "metadata": {
    "collapsed": true
   },
   "outputs": [],
   "source": [
    "import os"
   ]
  },
  {
   "cell_type": "code",
   "execution_count": 5,
   "metadata": {
    "collapsed": true
   },
   "outputs": [],
   "source": [
    "root_path = './../'"
   ]
  },
  {
   "cell_type": "code",
   "execution_count": 6,
   "metadata": {
    "collapsed": true
   },
   "outputs": [],
   "source": [
    "#filename = \"muse_scipost_N_ASASSN14lp_1_new_DATACUBE_FINAL_IFU_004_zap_all.fits\"\n",
    "filename = \"muse_scipost_N_SN2009bb_DATACUBE_FINAL_IFU_001_zap.fits\"\n",
    "#filename = \"muse_scipost_N_SN2004ef_DATACUBE_FINAL_IFU_002_skysub.fits\"\n",
    "data = fits.open(root_path+filename)\n",
    "_image = data[1].data\n",
    "header = data[1].header\n",
    "del data"
   ]
  },
  {
   "cell_type": "code",
   "execution_count": 7,
   "metadata": {
    "collapsed": true
   },
   "outputs": [],
   "source": [
    "image = _image[:, 100:300, 20:220]"
   ]
  },
  {
   "cell_type": "code",
   "execution_count": 8,
   "metadata": {
    "collapsed": false
   },
   "outputs": [
    {
     "name": "stdout",
     "output_type": "stream",
     "text": [
      "10.8111085796 15.0137771416\n"
     ]
    },
    {
     "data": {
      "text/plain": [
       "<matplotlib.colorbar.Colorbar at 0x7f8e2a8d70b8>"
      ]
     },
     "execution_count": 8,
     "metadata": {},
     "output_type": "execute_result"
    }
   ],
   "source": [
    "#image = image[:, 63:263, 100:300]\n",
    "#image = _image[:, 100:300, 20:220]\n",
    "(nl, nx, ny) = np.shape(image)\n",
    "image2D = np.sum(image, axis = 0)\n",
    "image2D[np.invert(np.isfinite(image2D))] = 0\n",
    "image2D = np.arcsinh(image2D)\n",
    "fig, ax = plt.subplots(figsize = (10, 10))\n",
    "l1, l2 = (np.percentile(image2D.flatten(), 1), np.percentile(image2D.flatten(), 99))\n",
    "print(l1, l2)\n",
    "color = ax.imshow(image2D, clim = (10, 14));\n",
    "fig.colorbar(color)"
   ]
  },
  {
   "cell_type": "code",
   "execution_count": 9,
   "metadata": {
    "collapsed": false
   },
   "outputs": [],
   "source": [
    "# spectral wavelengths\n",
    "CRVAL3 = float(header[\"CRVAL3\"])\n",
    "CRPIX3 = float(header[\"CRPIX3\"])\n",
    "CUNIT3 = header[\"CUNIT3\"]\n",
    "CD31 = float(header[\"CD3_1\"])\n",
    "CD32 = float(header[\"CD3_2\"])\n",
    "CD33 = float(header[\"CD3_3\"])\n",
    "NAXIS3 = int(header[\"NAXIS3\"])\n",
    "lambdas = np.array(CRVAL3 + CD33 * (np.arange(NAXIS3) - CRPIX3))"
   ]
  },
  {
   "cell_type": "markdown",
   "metadata": {},
   "source": [
    "**Asumimos que $H\\alpha$ es la más intensa.**"
   ]
  },
  {
   "cell_type": "code",
   "execution_count": 10,
   "metadata": {
    "collapsed": true
   },
   "outputs": [],
   "source": [
    "H_alpha = 6562.8\n",
    "spectra = _image[:, 120, 50]"
   ]
  },
  {
   "cell_type": "code",
   "execution_count": 11,
   "metadata": {
    "collapsed": false
   },
   "outputs": [
    {
     "data": {
      "text/plain": [
       "[<matplotlib.lines.Line2D at 0x7f8e2a8c2a58>]"
      ]
     },
     "execution_count": 11,
     "metadata": {},
     "output_type": "execute_result"
    }
   ],
   "source": [
    "fig, ax = plt.subplots(figsize = (20, 5))\n",
    "ax.plot(lambdas, spectra)\n",
    "ax.set_xlim(min(lambdas), max(lambdas))\n",
    "plt.ylabel('intensity')\n",
    "plt.xlabel('wave-lenghts')\n",
    "plt.plot([H_alpha,H_alpha],[spectra.min(),spectra.max()], c='red')"
   ]
  },
  {
   "cell_type": "code",
   "execution_count": 12,
   "metadata": {
    "collapsed": false
   },
   "outputs": [
    {
     "data": {
      "text/plain": [
       "6628.47607421875"
      ]
     },
     "execution_count": 12,
     "metadata": {},
     "output_type": "execute_result"
    }
   ],
   "source": [
    "_max = lambdas[spectra.argmax()]\n",
    "_max"
   ]
  },
  {
   "cell_type": "code",
   "execution_count": 13,
   "metadata": {
    "collapsed": false
   },
   "outputs": [],
   "source": [
    "z_1 = _max/H_alpha"
   ]
  },
  {
   "cell_type": "code",
   "execution_count": 14,
   "metadata": {
    "collapsed": false
   },
   "outputs": [],
   "source": [
    "lambdas_shiftted = lambdas/z_1"
   ]
  },
  {
   "cell_type": "code",
   "execution_count": 15,
   "metadata": {
    "collapsed": false
   },
   "outputs": [
    {
     "data": {
      "text/plain": [
       "[<matplotlib.lines.Line2D at 0x7f8e2a86ca58>]"
      ]
     },
     "execution_count": 15,
     "metadata": {},
     "output_type": "execute_result"
    }
   ],
   "source": [
    "fig, ax = plt.subplots(figsize = (20, 5))\n",
    "spectra = image[:, 120, 50]\n",
    "ax.plot(lambdas_shiftted, spectra)\n",
    "ax.set_xlim(min(lambdas), max(lambdas))\n",
    "plt.ylabel('intensity')\n",
    "plt.xlabel('wave-lenghts')\n",
    "plt.plot([H_alpha,H_alpha],[spectra.min(),spectra.max()], c='red')"
   ]
  },
  {
   "cell_type": "markdown",
   "metadata": {
    "collapsed": true
   },
   "source": [
    "### Shift of the full data set."
   ]
  },
  {
   "cell_type": "code",
   "execution_count": 16,
   "metadata": {
    "collapsed": false
   },
   "outputs": [
    {
     "data": {
      "text/plain": [
       "(200, 200)"
      ]
     },
     "execution_count": 16,
     "metadata": {},
     "output_type": "execute_result"
    }
   ],
   "source": [
    "all_maximums = image.argmax(0)\n",
    "all_maximums.shape"
   ]
  },
  {
   "cell_type": "code",
   "execution_count": 17,
   "metadata": {
    "collapsed": false
   },
   "outputs": [
    {
     "name": "stdout",
     "output_type": "stream",
     "text": [
      "(200, 200)\n",
      "(200, 200)\n"
     ]
    }
   ],
   "source": [
    "all_lambdas = lambdas[all_maximums]\n",
    "print(all_lambdas.shape)\n",
    "\n",
    "all_z_1 = all_lambdas/H_alpha\n",
    "print(all_z_1.shape)"
   ]
  },
  {
   "cell_type": "code",
   "execution_count": 18,
   "metadata": {
    "collapsed": false
   },
   "outputs": [],
   "source": [
    "multiply_lambdas = np.repeat(np.matrix(lambdas), all_z_1.shape[0], axis=0)  #(3681,) to (3681,321,320)"
   ]
  },
  {
   "cell_type": "code",
   "execution_count": 19,
   "metadata": {
    "collapsed": false
   },
   "outputs": [
    {
     "data": {
      "text/plain": [
       "(3681, 200)"
      ]
     },
     "execution_count": 19,
     "metadata": {},
     "output_type": "execute_result"
    }
   ],
   "source": [
    "multiply_lambdas.T.shape"
   ]
  },
  {
   "cell_type": "code",
   "execution_count": 20,
   "metadata": {
    "collapsed": false
   },
   "outputs": [],
   "source": [
    "transformed = np.array([multiply_lambdas for i in range(all_z_1.shape[1])]).T"
   ]
  },
  {
   "cell_type": "code",
   "execution_count": 21,
   "metadata": {
    "collapsed": false
   },
   "outputs": [
    {
     "data": {
      "text/plain": [
       "(3681, 200, 200)"
      ]
     },
     "execution_count": 21,
     "metadata": {},
     "output_type": "execute_result"
    }
   ],
   "source": [
    "transformed.shape"
   ]
  },
  {
   "cell_type": "markdown",
   "metadata": {},
   "source": [
    "### Amplify image."
   ]
  },
  {
   "cell_type": "code",
   "execution_count": 22,
   "metadata": {
    "collapsed": false
   },
   "outputs": [],
   "source": [
    "lambdas_to_check = np.array([all_maximums-i for i in range(1,10)]+[all_maximums]+[all_maximums+i for i in range(1,10)])"
   ]
  },
  {
   "cell_type": "code",
   "execution_count": 23,
   "metadata": {
    "collapsed": false
   },
   "outputs": [
    {
     "data": {
      "text/plain": [
       "3689"
      ]
     },
     "execution_count": 23,
     "metadata": {},
     "output_type": "execute_result"
    }
   ],
   "source": [
    "lambdas_to_check.max()"
   ]
  },
  {
   "cell_type": "code",
   "execution_count": 24,
   "metadata": {
    "collapsed": false
   },
   "outputs": [
    {
     "data": {
      "text/plain": [
       "(19, 200, 200)"
      ]
     },
     "execution_count": 24,
     "metadata": {},
     "output_type": "execute_result"
    }
   ],
   "source": [
    "lambdas_to_check.shape"
   ]
  },
  {
   "cell_type": "code",
   "execution_count": 25,
   "metadata": {
    "collapsed": false
   },
   "outputs": [
    {
     "data": {
      "text/plain": [
       "(200, 200)"
      ]
     },
     "execution_count": 25,
     "metadata": {},
     "output_type": "execute_result"
    }
   ],
   "source": [
    "noise = np.zeros((image.shape[1],image.shape[2]))\n",
    "noise.shape"
   ]
  },
  {
   "cell_type": "code",
   "execution_count": 26,
   "metadata": {
    "collapsed": false
   },
   "outputs": [],
   "source": [
    "for i in range(image.shape[1]):\n",
    "    for j in range(image.shape[2]):\n",
    "        try:\n",
    "            _s_lambdas = lambdas_to_check[:,i,j]\n",
    "            #print(_s_lambdas, image[_s_lambdas,i,j].shape)\n",
    "            _mean = image[_s_lambdas,i,j].mean()\n",
    "            _std = image[_s_lambdas,i,j].std()\n",
    "            _Halpha = _s_lambdas[_s_lambdas.shape[0]//2+_s_lambdas.shape[0]%2]\n",
    "            if _Halpha > _mean+2*_std:\n",
    "                noise[i,j] = 1\n",
    "        except:\n",
    "            pass"
   ]
  },
  {
   "cell_type": "code",
   "execution_count": 27,
   "metadata": {
    "collapsed": false
   },
   "outputs": [
    {
     "data": {
      "text/plain": [
       "(3681, 200, 200)"
      ]
     },
     "execution_count": 27,
     "metadata": {},
     "output_type": "execute_result"
    }
   ],
   "source": [
    "image.shape"
   ]
  },
  {
   "cell_type": "code",
   "execution_count": 28,
   "metadata": {
    "collapsed": false
   },
   "outputs": [
    {
     "data": {
      "text/plain": [
       "(19, 200, 200)"
      ]
     },
     "execution_count": 28,
     "metadata": {},
     "output_type": "execute_result"
    }
   ],
   "source": [
    "lambdas_to_check.shape"
   ]
  },
  {
   "cell_type": "code",
   "execution_count": 29,
   "metadata": {
    "collapsed": false
   },
   "outputs": [
    {
     "data": {
      "text/plain": [
       "(3681, 200, 200)"
      ]
     },
     "execution_count": 29,
     "metadata": {},
     "output_type": "execute_result"
    }
   ],
   "source": [
    "scaled_image = image + noise*(all_z_1-1)*image\n",
    "scaled_image.shape"
   ]
  },
  {
   "cell_type": "code",
   "execution_count": 30,
   "metadata": {
    "collapsed": false
   },
   "outputs": [
    {
     "data": {
      "text/plain": [
       "(3681, 200, 200)"
      ]
     },
     "execution_count": 30,
     "metadata": {},
     "output_type": "execute_result"
    }
   ],
   "source": [
    "all_lambdas_shiftted = transformed/(1+(all_z_1-1)*noise)\n",
    "all_lambdas_shiftted.shape"
   ]
  },
  {
   "cell_type": "code",
   "execution_count": 31,
   "metadata": {
    "collapsed": false
   },
   "outputs": [
    {
     "data": {
      "text/plain": [
       "(3681, 200, 200)"
      ]
     },
     "execution_count": 31,
     "metadata": {},
     "output_type": "execute_result"
    }
   ],
   "source": [
    "all_lambdas_shiftted.shape"
   ]
  },
  {
   "cell_type": "code",
   "execution_count": 32,
   "metadata": {
    "collapsed": false
   },
   "outputs": [
    {
     "data": {
      "text/plain": [
       "(3337, 9735)"
      ]
     },
     "execution_count": 32,
     "metadata": {},
     "output_type": "execute_result"
    }
   ],
   "source": [
    "_minimum = int(all_lambdas_shiftted.min())\n",
    "_maximum = int(all_lambdas_shiftted.max())\n",
    "\n",
    "_minimum, _maximum"
   ]
  },
  {
   "cell_type": "code",
   "execution_count": 33,
   "metadata": {
    "collapsed": false
   },
   "outputs": [],
   "source": [
    "int_all_lambdas_shiftted = all_lambdas_shiftted.astype(int)"
   ]
  },
  {
   "cell_type": "code",
   "execution_count": 34,
   "metadata": {
    "collapsed": false
   },
   "outputs": [
    {
     "data": {
      "text/plain": [
       "(3681, 200, 200)"
      ]
     },
     "execution_count": 34,
     "metadata": {},
     "output_type": "execute_result"
    }
   ],
   "source": [
    "int_all_lambdas_shiftted.shape"
   ]
  },
  {
   "cell_type": "code",
   "execution_count": 35,
   "metadata": {
    "collapsed": false
   },
   "outputs": [],
   "source": [
    "new_image = np.ones((_maximum-_minimum, image.shape[1], image.shape[2]))"
   ]
  },
  {
   "cell_type": "code",
   "execution_count": 36,
   "metadata": {
    "collapsed": false
   },
   "outputs": [],
   "source": [
    "new_image = new_image * np.nanmean(scaled_image, axis=0)"
   ]
  },
  {
   "cell_type": "code",
   "execution_count": 37,
   "metadata": {
    "collapsed": false
   },
   "outputs": [
    {
     "data": {
      "text/plain": [
       "(6398, 200, 200)"
      ]
     },
     "execution_count": 37,
     "metadata": {},
     "output_type": "execute_result"
    }
   ],
   "source": [
    "new_image.shape"
   ]
  },
  {
   "cell_type": "code",
   "execution_count": 38,
   "metadata": {
    "collapsed": false
   },
   "outputs": [
    {
     "name": "stdout",
     "output_type": "stream",
     "text": [
      "3479\n"
     ]
    }
   ],
   "source": [
    "print(int_all_lambdas_shiftted[0,0,0])"
   ]
  },
  {
   "cell_type": "code",
   "execution_count": 39,
   "metadata": {
    "collapsed": false
   },
   "outputs": [
    {
     "data": {
      "text/plain": [
       "(3681, 200, 200)"
      ]
     },
     "execution_count": 39,
     "metadata": {},
     "output_type": "execute_result"
    }
   ],
   "source": [
    "scaled_image.shape"
   ]
  },
  {
   "cell_type": "code",
   "execution_count": 40,
   "metadata": {
    "collapsed": false
   },
   "outputs": [],
   "source": [
    "for i in range(scaled_image.shape[0]):\n",
    "    for j in range(scaled_image.shape[1]):  \n",
    "        for k in range(scaled_image.shape[2]):\n",
    "            new_image[int_all_lambdas_shiftted[i,j,k]-_minimum-1,j,k] = scaled_image[i,j,k]\n"
   ]
  },
  {
   "cell_type": "code",
   "execution_count": 41,
   "metadata": {
    "collapsed": false
   },
   "outputs": [
    {
     "data": {
      "text/plain": [
       "(6398, 200, 200)"
      ]
     },
     "execution_count": 41,
     "metadata": {},
     "output_type": "execute_result"
    }
   ],
   "source": [
    "new_image.shape"
   ]
  },
  {
   "cell_type": "markdown",
   "metadata": {},
   "source": [
    "# playing as video"
   ]
  },
  {
   "cell_type": "code",
   "execution_count": 45,
   "metadata": {
    "collapsed": false
   },
   "outputs": [],
   "source": [
    "%matplotlib qt4"
   ]
  },
  {
   "cell_type": "code",
   "execution_count": 43,
   "metadata": {
    "collapsed": false
   },
   "outputs": [
    {
     "data": {
      "text/plain": [
       "4"
      ]
     },
     "execution_count": 43,
     "metadata": {},
     "output_type": "execute_result"
    }
   ],
   "source": [
    "2+2"
   ]
  },
  {
   "cell_type": "code",
   "execution_count": null,
   "metadata": {
    "collapsed": false
   },
   "outputs": [],
   "source": [
    "%matplotlib inline\n",
    "image2D = np.sum(image, axis=0)\n",
    "image2D[np.invert(np.isfinite(image2D))] = 0\n",
    "image2D = np.arcsinh(image2D)\n",
    "fig, ax = plt.subplots(figsize = (5, 5))\n",
    "color = ax.imshow(image2D, clim = (10, 14));\n",
    "fig.colorbar(color);\n",
    "plt.show()\n",
    "%matplotlib qt4"
   ]
  },
  {
   "cell_type": "code",
   "execution_count": null,
   "metadata": {
    "collapsed": false
   },
   "outputs": [],
   "source": [
    "%matplotlib inline\n",
    "image2D = np.sum(new_image, axis=0)\n",
    "image2D[np.invert(np.isfinite(image2D))] = 0\n",
    "image2D = np.arcsinh(image2D)\n",
    "fig, ax = plt.subplots(figsize = (5, 5))\n",
    "color = ax.imshow(image2D, clim = (10, 14));\n",
    "fig.colorbar(color);\n",
    "plt.show()\n",
    "%matplotlib qt4"
   ]
  },
  {
   "cell_type": "code",
   "execution_count": 44,
   "metadata": {
    "collapsed": true
   },
   "outputs": [],
   "source": [
    "H_o = 4102.89\n",
    "H_y = 4341.68\n",
    "H_b = 4862.68\n",
    "O_3 = 4960.295\n",
    "O_32 = 5008.240\n",
    "\n",
    "\n",
    "N_2 = 6549.86 # 6535\n",
    "H_alpha = H_alpha #6556\n",
    "N_22 = 6585.27 # 6570\n",
    "S_2 = 6718.29 # 6700\n",
    "S_22 = 6732.67 # 6720\n",
    "\n",
    "titles = {\n",
    "6542 :\"6549.8 = N_2\",\n",
    "6554 :\"6562.8 = H_alpha\",\n",
    "6577 :\"6585.2 = N_2_2\",\n",
    "6713 :\"6718.2 = S_2\",\n",
    "6724 :\"6732.6 = S_2_2\",\n",
    "}\n"
   ]
  },
  {
   "cell_type": "code",
   "execution_count": 46,
   "metadata": {
    "collapsed": false
   },
   "outputs": [
    {
     "name": "stderr",
     "output_type": "stream",
     "text": [
      "/usr/local/lib/python3.5/dist-packages/matplotlib/backend_bases.py:2437: MatplotlibDeprecationWarning: Using default event loop until function specific to this GUI is implemented\n",
      "  warnings.warn(str, mplDeprecation)\n"
     ]
    }
   ],
   "source": [
    "matrix=new_image # Read the numpy matrix with images in the rows\n",
    "\n",
    "_m = 6450#_minimum\n",
    "_mm = 8000\n",
    "\n",
    "fig, ax = plt.subplots(figsize = (10, 10))\n",
    "color = ax.imshow(image2D, clim = (10, 270), cmap=plt.cm.summer);\n",
    "fig.colorbar(color);\n",
    "\n",
    "title = \"6562.8 = H_alpha\"\n",
    "wait = 0.01\n",
    "_k = 0 \n",
    "\n",
    "for i, row in enumerate(matrix[_m-_minimum:_mm-_minimum,:,:]):\n",
    "    \n",
    "    if _m+i in titles:\n",
    "        title = titles[_m+i]\n",
    "        wait = .3\n",
    "        _k = _m+i\n",
    "    elif _m+i > _k+10:\n",
    "        wait = 0.01\n",
    "        \n",
    "    plt.title(\"{} / {}\".format(_m+i,title),fontsize=30)\n",
    "    \n",
    "    color.set_array(row)\n",
    "    plt.pause(wait)\n",
    "    plt.show(block = False)\n",
    "    "
   ]
  },
  {
   "cell_type": "code",
   "execution_count": null,
   "metadata": {
    "collapsed": true
   },
   "outputs": [],
   "source": [
    "from clustering import *"
   ]
  },
  {
   "cell_type": "code",
   "execution_count": null,
   "metadata": {
    "collapsed": true
   },
   "outputs": [],
   "source": [
    "2+2"
   ]
  },
  {
   "cell_type": "code",
   "execution_count": null,
   "metadata": {
    "collapsed": true
   },
   "outputs": [],
   "source": [
    "#all_lambdas_shiftted\n",
    "#scaled_image"
   ]
  },
  {
   "cell_type": "code",
   "execution_count": null,
   "metadata": {
    "collapsed": true
   },
   "outputs": [],
   "source": []
  }
 ],
 "metadata": {
  "anaconda-cloud": {},
  "kernelspec": {
   "display_name": "Python 3",
   "language": "python",
   "name": "python3"
  },
  "language_info": {
   "codemirror_mode": {
    "name": "ipython",
    "version": 3
   },
   "file_extension": ".py",
   "mimetype": "text/x-python",
   "name": "python",
   "nbconvert_exporter": "python",
   "pygments_lexer": "ipython3",
   "version": "3.5.2"
  }
 },
 "nbformat": 4,
 "nbformat_minor": 0
}
